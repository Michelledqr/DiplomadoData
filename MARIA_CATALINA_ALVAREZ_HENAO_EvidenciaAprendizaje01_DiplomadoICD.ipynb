{
  "nbformat": 4,
  "nbformat_minor": 0,
  "metadata": {
    "colab": {
      "provenance": [],
      "include_colab_link": true
    },
    "kernelspec": {
      "name": "python3",
      "display_name": "Python 3"
    },
    "language_info": {
      "name": "python"
    }
  },
  "cells": [
    {
      "cell_type": "markdown",
      "metadata": {
        "id": "view-in-github",
        "colab_type": "text"
      },
      "source": [
        "<a href=\"https://colab.research.google.com/github/Michelledqr/DiplomadoData/blob/main/MARIA_CATALINA_ALVAREZ_HENAO_EvidenciaAprendizaje01_DiplomadoICD.ipynb\" target=\"_parent\"><img src=\"https://colab.research.google.com/assets/colab-badge.svg\" alt=\"Open In Colab\"/></a>"
      ]
    },
    {
      "cell_type": "markdown",
      "source": [
        "<div align=\"left\">\n",
        "<p><img alt=\"IUDigital\" height=\"140px\" src=\"https://www.iudigital.edu.co/Style%20Library/images/logo-escudo.png\" align=\"left\" hspace=\"10px\" vspace=\"0px\"></p></div>\n",
        "<div> </div>\n",
        "<div align=\"right\">\n",
        "<p><img alt=\"Posgrado\" height=\"140px\" src=\"https://www.iudigital.edu.co/OfertaEducativa/PublishingImages/Paginas/Tecnologia-en-Desarrollo-de-Software/19072021_Tecnologia_Dllo_Software_1200px.jpg\" align=\"right\" hspace=\"10px\" vspace=\"10px\"></p></div>\n",
        "<br></br>\n",
        "<br></br>\n",
        "<br></br>\n",
        "<br></br>\n",
        "<p>\n",
        "<h1> <b> Tarea 1 - Búsqueda de Información </b> </h1>\n",
        "<hr size=10 noshade color=\"red\">\n",
        "</p>"
      ],
      "metadata": {
        "id": "GP81L3dJOr6k"
      }
    },
    {
      "cell_type": "markdown",
      "source": [
        "# **Evidencia de Aprendizaje 1**\n",
        "\n",
        "## Búsqueda de información para modelos de Machine Learning"
      ],
      "metadata": {
        "id": "GbrNxOWfPG6I"
      }
    },
    {
      "cell_type": "markdown",
      "source": [],
      "metadata": {
        "id": "ne89Wulbalkp"
      }
    },
    {
      "cell_type": "code",
      "source": [
        "#@markdown # Ingresar el nombre de los estudiantes\n",
        "Estudiante_1 = \"\\\"Maria Catalina Alvarez Henao\\\"\" #@param {type:\"string\"}\n",
        "Estudiante_2 = \"Michelle D. Robinson\" #@param {type:\"string\"}\n",
        "\n"
      ],
      "metadata": {
        "cellView": "form",
        "id": "GWJvViORSrfv"
      },
      "execution_count": null,
      "outputs": []
    },
    {
      "cell_type": "markdown",
      "source": [
        "## **Descripción de la Evidencia de Aprendizaje**\n",
        "Para la presente actividad se debe presentar un documento de Google Colab con donde usando Markdown se describa el procedimiento realizado para encontrar información relacionada con el modelo que vamos a realizar. El documento de Google Colab debe contar con introducción, planteamiento del problema, descripción del documento seleccionado y conclusiones. Adicionalmente se debe cargar este documento en GitHub y realizar una carga de información mostrando sus primeros y últimos cinco registros, así como un análisis descriptivo de los datos."
      ],
      "metadata": {
        "id": "k1bjiUAGPNR3"
      }
    },
    {
      "cell_type": "markdown",
      "source": [
        "## **Instrucciones iniciales**\n",
        "\n",
        "1.  Defina una web de donde descargará la información.\n",
        "2.  Existen múltiples fuentes de información, recuerda referenciar la que utilizaste y la URL de los datos."
      ],
      "metadata": {
        "id": "FYBrHWvUPSmG"
      }
    },
    {
      "cell_type": "markdown",
      "source": [
        "## **Instrucciones de la Evidencia de Aprendizaje:**\n",
        "A partir de la información obtenida modifique el documento Google Colab cargado en el presente documento o modificado directamente de la tarea de Google Classroom.\n",
        "\n",
        "Describa el procedimiento realizado para la obtención de los datos.\n",
        "\n",
        "El documento Google Colab debe contar con:\n",
        "*   Introducción\n",
        "*   Planteamiento del problema\n",
        "*   Descripción del dataset\n",
        "*   Descripción de cada columna del dataset\n",
        "*   Lectura del documento desde GitHub\n",
        "*   Mostrar las primeras y ultimas cinco filas\n",
        "*   Realizar un análisis descriptivo de los datos.\n",
        "*   Respuestas a Ruta Metodológica\n",
        "*   Conclusiones\n",
        "\n",
        "## **Desarrollo de Ruta Metodológica**\n",
        "Después de analizar la información extraída y transformada, responde a las siguientes preguntas:\n",
        "\n",
        "*   ¿Qué uso podríamos darle al dataset?\n",
        "*   ¿Existe alguna relación entre las columnas del documento?\n",
        "*   ¿Qué podríamos predecir o clasificar usando estos datos?\n",
        "*   ¿Qué observaciones tienes de la pagina de donde descargaste la información?\n",
        "\n"
      ],
      "metadata": {
        "id": "MUv6LkjWPlNP"
      }
    },
    {
      "cell_type": "markdown",
      "source": [
        "### Solución"
      ],
      "metadata": {
        "id": "Vep5us-DPzZz"
      }
    },
    {
      "cell_type": "markdown",
      "source": [
        "# INTRODUCIÓN\n",
        "<P>\n",
        "\n",
        "Este servicio permite la consulta de la información consolidada en la base de datos del aplicativo **SIPSA** alimentada de los diferentes métodos de recolección para los productos agroalimentarios que se comercializan en el país, así como la información de insumos y factores asociados a la producción agrícola y el nivel de abastecimiento de alimentos en las ciudades.\n",
        "\n",
        "La implementación de este servicio Web está desarrollada bajo el estándar SOAP (Simple Object Access Protocol), en su versión 1.2, el cual permite el intercambio de información en un formato *XML* bajo protocolo *HTTP*. El servicio fue desarrollado usando tecnología Java, en su versión de JDK 1.6 aplicando la especificación de módulos provista por el framework ADF.\n",
        "\n",
        "---\n",
        "\n",
        "\n",
        "\n"
      ],
      "metadata": {
        "id": "y9LTMhjLau6R"
      }
    },
    {
      "cell_type": "markdown",
      "source": [
        "# PLANTEAMIENTO DEL PROBLEMA\n",
        "\n",
        "Se busca definir el aprovechamiento agrícola de un terreno en las cercanías de Medellín para determinar que tipo de productos sería conveniente cultivar considerando la perspectiva de demanda de mercado\n"
      ],
      "metadata": {
        "id": "qpVzzqqCa1PD"
      }
    },
    {
      "cell_type": "markdown",
      "source": [
        "# DESCRIPCIÓN DEL DATASET\n",
        "\n",
        "\n",
        "El SIPSA_A registra y reporta información de la cantidad de alimentos del sector agropecuario, que abastecen los principales\n",
        "mercados mayoristas del país.\n",
        "\n",
        "Esta información se distribuye en ocho grupos de alimentos aclarando quepara las publicaciones semanales, quincenales y mensuales los alimentos correspondientes a los grupos de frutas; tubérculos, raíces y plátanos; y\n",
        "verduras y hortalizas, por tener mayor participación en el abastecimiento se presentan de manera individual, mientras que los grupos correspondientes a granos y cereales; huevos y lácteos; carnes; pescados y productos  procesados, se presentan en un agregado bajo la denominación \"otros grupos\"\n",
        "\n"
      ],
      "metadata": {
        "id": "M7hnN7afa47E"
      }
    },
    {
      "cell_type": "code",
      "source": [
        "import pandas as pd\n",
        "ruta = r'https://raw.githubusercontent.com/Michelledqr/DiplomadoData/main/Abastecimiento2018-2023.csv'\n",
        "df = pd.read_csv(ruta, sep=\",\")\n",
        "print(df.head())\n",
        "print(df.tail())\n",
        "print(df.describe())"
      ],
      "metadata": {
        "id": "2KzcCCD8iLAs",
        "colab": {
          "base_uri": "https://localhost:8080/"
        },
        "outputId": "dafecb5e-9112-4c38-b363-862652e1c397"
      },
      "execution_count": null,
      "outputs": [
        {
          "output_type": "stream",
          "name": "stdout",
          "text": [
            "                      Ciudad   año  mes  dia  Semana     DiaInic      Diafin  \\\n",
            "0  Manizales Centro Galerías  2018    3    1       9  01/03/2018  07/03/2018   \n",
            "1  Manizales Centro Galerías  2018    3    8      10  08/03/2018  14/03/2018   \n",
            "2  Manizales Centro Galerías  2018    3   15      11  15/03/2018  21/03/2018   \n",
            "3  Manizales Centro Galerías  2018    3   22      12  22/03/2018  28/03/2018   \n",
            "4  Manizales Centro Galerías  2018    3   29      13  29/03/2018  04/04/2018   \n",
            "\n",
            "    FRUTAS  TUBERCULOS RAICES Y PLATANOS  VERDURAS Y HORTALIZAS  OTROS GRUPOS  \n",
            "0  291.043                       429.605                189.169       138.176  \n",
            "1  304.307                       420.909                184.683        93.684  \n",
            "2  252.468                       278.465                131.636        83.392  \n",
            "3  285.900                       510.700                166.426       121.930  \n",
            "4  163.594                       183.775                 83.313        52.960  \n",
            "                                                Ciudad   año  mes  dia  \\\n",
            "543  Medellín Central Mayorista de Antioquia y Plaz...  2023    4   27   \n",
            "544  Medellín Central Mayorista de Antioquia y Plaz...  2023    5    4   \n",
            "545  Medellín Central Mayorista de Antioquia y Plaz...  2023    5   11   \n",
            "546  Medellín Central Mayorista de Antioquia y Plaz...  2023    5   18   \n",
            "547  Medellín Central Mayorista de Antioquia y Plaz...  2023    5   25   \n",
            "\n",
            "     Semana     DiaInic      Diafin    FRUTAS  TUBERCULOS RAICES Y PLATANOS  \\\n",
            "543      17  27/04/2023  03/05/2023  4358.312                      4875.909   \n",
            "544      18  04/05/2023  10/05/2023  5612.264                      5384.235   \n",
            "545      19  11/05/2023  17/05/2023  5012.805                      4602.510   \n",
            "546      20  18/05/2023  24/05/2023  4582.410                      4101.605   \n",
            "547      21  25/05/2023  31/05/2023  4162.686                      3748.461   \n",
            "\n",
            "     VERDURAS Y HORTALIZAS  OTROS GRUPOS  \n",
            "543               4509.408    2359.10976  \n",
            "544               4877.199    4028.69436  \n",
            "545               4512.628    2424.54120  \n",
            "546               4369.719     819.25820  \n",
            "547               3716.642    1062.61700  \n",
            "               año         mes         dia      Semana       FRUTAS  \\\n",
            "count   548.000000  548.000000  548.000000  548.000000   548.000000   \n",
            "mean   2020.288321    6.416058   15.748175   26.430657  2484.759602   \n",
            "std       1.546622    3.425130    8.804524   14.967507  2197.506612   \n",
            "min    2018.000000    1.000000    1.000000    1.000000   163.594000   \n",
            "25%    2019.000000    3.000000    8.000000   14.000000   344.837000   \n",
            "50%    2020.000000    6.000000   16.000000   26.000000  1237.764000   \n",
            "75%    2022.000000    9.000000   23.000000   39.000000  4666.611000   \n",
            "max    2023.000000   12.000000   31.000000   53.000000  5989.968000   \n",
            "\n",
            "       TUBERCULOS RAICES Y PLATANOS  VERDURAS Y HORTALIZAS  OTROS GRUPOS  \n",
            "count                    548.000000             548.000000    548.000000  \n",
            "mean                    2271.441967            2158.735916   2699.117868  \n",
            "std                     1896.490934            1882.986178   2724.760059  \n",
            "min                      173.950000              83.313000     52.960000  \n",
            "25%                      411.418750             306.052500    231.397350  \n",
            "50%                     1492.885500            1295.773000    630.717300  \n",
            "75%                     4144.530000            4069.937000   5385.803300  \n",
            "max                     5384.235000            4914.288000   8848.846000  \n"
          ]
        }
      ]
    },
    {
      "cell_type": "markdown",
      "source": [],
      "metadata": {
        "id": "0tzX29GXa9uH"
      }
    },
    {
      "cell_type": "markdown",
      "source": [
        "## REALIZAR ANÁLISIS DESCRIPTIVO DE LOS DATOS\n",
        "\n",
        "\n",
        "##Variables de Clasificación\n",
        "\n",
        " Las variables de clasificación están definidas por los grupos de alimentos establecidos para la canasta\n",
        "de SIPSA_A:\n",
        "\n",
        "- Verduras y hortalizas\n",
        "- Frutas\n",
        "- Tubérculos, raíces y plátanos\n",
        "- Otros Grupos\n",
        ">- Granos y cereales\n",
        ">- Huevos y lácteos\n",
        ">- Carnes\n",
        ">- Pescados\n",
        ">- Procesados\n",
        "\n",
        "##Variables de Análisis\n",
        "- Grupo de alimentos\n",
        "- Cantidad\n",
        "- Procedencia (departamento y municipio).\n"
      ],
      "metadata": {
        "id": "sO8zoO5yjC8k"
      }
    },
    {
      "cell_type": "markdown",
      "source": [
        "#**Desarrollo de Ruta Metodológica**\n",
        "\n",
        "**¿Qué uso podríamos darle al dataset?**\n",
        "\n",
        "Identificar la demanda de productos agricolas de acuerdo al aprovisionamiento registrado en los centros de abastos en Medellín y Manizales.\n",
        "\n",
        "**¿Existe alguna relación entre las columnas del documento?**\n",
        "Los datos tienen dos niveles de clasificación y estan estructurados como serie de tiempos.\n",
        "\n",
        "**¿Qué podríamos predecir o clasificar usando estos datos?**\n",
        "\n",
        "Validar la demanda de los grupos de productos de forma individual, buscar picos de demanda por periodos durante el año, hacer proyecciones de crecimiento de demanda dada la información histórica o proyectar un crecimiento haciendo correlación con una base de datos demográfica de la región.\n",
        "\n",
        "\n",
        "**¿Qué observaciones tienes de la página de donde descargaste la información?**\n",
        "El DANE provee la ficha metodológica donde informa el modelo de captura de los datos, la página es intuitiva y presenta una clasificación de los datos adecuada que facilita la consulta y extracción.  \n"
      ],
      "metadata": {
        "id": "ra42b4TDokqq"
      }
    },
    {
      "cell_type": "markdown",
      "source": [
        "##**BIBLIOGRAFIA**\n",
        "\n",
        "- DANE. (2023). Sistema de Información de Precios y Abastecimiento del Sector Agropecuario (SIPSA). Departamento Administrativo Nacional de Estadística. Disponible en: https://www.dane.gov.co/index.php/estadisticas-por-tema/agropecuario/sistema-de-informacion-de-precios-sipsa#componente-abastecimiento\n",
        "\n",
        "- DANE. (2020). Ficha Metodológica Sistema De Información De Precios Y Abastecimiento Del\n",
        "Sector Agropecuario Componente De Abastecimientos Sipsa _A. Departamento Administrativo Nacional de Estadística. Disponible en: https://www.dane.gov.co/index.php/estadisticas-por-tema/agropecuario/sistema-de-informacion-de-precios-sipsa#componente-abastecimiento\n"
      ],
      "metadata": {
        "id": "nd65bliFmBOv"
      }
    }
  ]
}